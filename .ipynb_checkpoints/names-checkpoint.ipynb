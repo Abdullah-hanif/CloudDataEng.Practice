{
 "cells": [
  {
   "cell_type": "code",
   "execution_count": 1,
   "id": "dcc97dbc-780e-4d37-9ab2-e0dd87d16128",
   "metadata": {},
   "outputs": [],
   "source": [
    "name=['akif','shearoz']"
   ]
  },
  {
   "cell_type": "code",
   "execution_count": null,
   "id": "f0d27fa6-55a0-485b-9262-2fe97255da06",
   "metadata": {},
   "outputs": [],
   "source": []
  }
 ],
 "metadata": {
  "kernelspec": {
   "display_name": "Python 3 (ipykernel)",
   "language": "python",
   "name": "python3"
  },
  "language_info": {
   "codemirror_mode": {
    "name": "ipython",
    "version": 3
   },
   "file_extension": ".py",
   "mimetype": "text/x-python",
   "name": "python",
   "nbconvert_exporter": "python",
   "pygments_lexer": "ipython3",
   "version": "3.12.0"
  }
 },
 "nbformat": 4,
 "nbformat_minor": 5
}
