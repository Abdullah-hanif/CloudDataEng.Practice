{
 "cells": [
  {
   "cell_type": "code",
   "execution_count": 1,
   "id": "4eff93d3-1097-4543-ab33-f10e7b3c056e",
   "metadata": {},
   "outputs": [
    {
     "name": "stdout",
     "output_type": "stream",
     "text": [
      "hey\n"
     ]
    }
   ],
   "source": [
    "print('hey')"
   ]
  },
  {
   "cell_type": "code",
   "execution_count": null,
   "id": "c76c7be4-3ab5-45b8-bfb5-b1c714509fd1",
   "metadata": {},
   "outputs": [],
   "source": []
  },
  {
   "cell_type": "code",
   "execution_count": 4,
   "id": "386c899b-f5ae-4af8-8a49-266790001e75",
   "metadata": {},
   "outputs": [
    {
     "ename": "SyntaxError",
     "evalue": "invalid syntax (3290259501.py, line 3)",
     "output_type": "error",
     "traceback": [
      "\u001b[1;36m  Cell \u001b[1;32mIn[4], line 3\u001b[1;36m\u001b[0m\n\u001b[1;33m    except:\u001b[0m\n\u001b[1;37m    ^\u001b[0m\n\u001b[1;31mSyntaxError\u001b[0m\u001b[1;31m:\u001b[0m invalid syntax\n"
     ]
    }
   ],
   "source": [
    "try:\n",
    "    #error might be expected\n",
    "    except:\n",
    "    #after error arrcured\n",
    "else:\n",
    "#run after else block\n",
    "finally:\n",
    "print('anyrhing')"
   ]
  },
  {
   "cell_type": "code",
   "execution_count": 7,
   "id": "e44f6638-3339-4871-8be1-87614ad0634d",
   "metadata": {},
   "outputs": [
    {
     "name": "stdin",
     "output_type": "stream",
     "text": [
      "Enter a number to divide 100 by:  sf\n"
     ]
    },
    {
     "name": "stdout",
     "output_type": "stream",
     "text": [
      "Error: Please enter a valid number.\n"
     ]
    }
   ],
   "source": [
    "#zero divison error\n",
    "#take input number and divide 100 from that number\n",
    "try:\n",
    "    # Take input from the user\n",
    "    number = float(input(\"Enter a number to divide 100 by: \"))\n",
    "    \n",
    "    # Perform division\n",
    "    result = 100 / number\n",
    "    \n",
    "    # Print the result\n",
    "    print(f\"The result is: {result}\")\n",
    "except ZeroDivisionError:\n",
    "    # Handle division by zero error\n",
    "    print(\"Error: Division by zero is not allowed.\")\n",
    "except ValueError:\n",
    "    # Handle invalid input error\n",
    "    print(\"Error: Please enter a valid number.\")\n",
    "\n"
   ]
  },
  {
   "cell_type": "code",
   "execution_count": 19,
   "id": "e39e2c44-6115-4412-a3b4-ff492c1b3c3c",
   "metadata": {},
   "outputs": [
    {
     "name": "stdout",
     "output_type": "stream",
     "text": [
      "File written successfully.\n"
     ]
    }
   ],
   "source": [
    "try:\n",
    "    # Try opening the file in write mode\n",
    "    file_path = 'a'\n",
    "    with open(file_path, \"w\") as file:\n",
    "        file.write(\"This is a test line. great boss lekin salary se paise cut hote eobi ke\")\n",
    "        print(\"File written successfully.\")\n",
    "except PermissionError:\n",
    "    # Handle permission error\n",
    "    print(f\"PermissionError: You do not have the required permissions to write to '{file_path}'.\")\n",
    "except FileNotFoundError:\n",
    "    # Handle file not found error (unlikely in this case, but added for robustness)\n",
    "    print(f\"FileNotFoundError: The file '{file_path}' does not exist.\")\n",
    "except Exception as e:\n",
    "    # Handle other potential exceptions\n",
    "    print(f\"An unexpected error occurred: {e}\")\n"
   ]
  },
  {
   "cell_type": "code",
   "execution_count": 21,
   "id": "dbf7b2c0-2828-42f7-a309-7e83f4928f62",
   "metadata": {},
   "outputs": [
    {
     "name": "stdout",
     "output_type": "stream",
     "text": [
      "Values added starting from the second line successfully.\n"
     ]
    }
   ],
   "source": [
    "try:\n",
    "    # File path\n",
    "    file_path = \"a\"\n",
    "    \n",
    "    # Read the file content\n",
    "    with open(file_path, \"r\") as file:\n",
    "        lines = file.readlines()\n",
    "    \n",
    "    # Ensure the file has at least one line to skip\n",
    "    if not lines:\n",
    "        raise ValueError(\"The file is empty.\")\n",
    "    \n",
    "    # Open the file in write mode to modify it\n",
    "    with open(file_path, \"w\") as file:\n",
    "        # Write the first line back to the file\n",
    "        file.write(lines[0])\n",
    "        \n",
    "        # Add new values after the first line\n",
    "        new_values = [\"Second line content\\n\", \"Third line content\\n\"]\n",
    "        file.writelines(new_values)\n",
    "        \n",
    "        # Write the remaining original content (if any)\n",
    "        file.writelines(lines[1:])\n",
    "    \n",
    "    print(\"Values added starting from the second line successfully.\")\n",
    "except PermissionError:\n",
    "    print(f\"PermissionError: You do not have permission to modify '{file_path}'.\")\n",
    "except FileNotFoundError:\n",
    "    print(f\"FileNotFoundError: The file '{file_path}' does not exist.\")\n",
    "except ValueError as ve:\n",
    "    print(f\"ValueError: {ve}\")\n",
    "except Exception as e:\n",
    "    print(f\"An unexpected error occurred: {e}\")\n"
   ]
  },
  {
   "cell_type": "code",
   "execution_count": null,
   "id": "f3aded57-fea2-4b79-87c7-0a25a3c7b756",
   "metadata": {},
   "outputs": [],
   "source": []
  },
  {
   "cell_type": "code",
   "execution_count": null,
   "id": "035659ba-dd29-4d86-987d-41f76b9e0448",
   "metadata": {},
   "outputs": [],
   "source": []
  }
 ],
 "metadata": {
  "kernelspec": {
   "display_name": "Python 3 (ipykernel)",
   "language": "python",
   "name": "python3"
  },
  "language_info": {
   "codemirror_mode": {
    "name": "ipython",
    "version": 3
   },
   "file_extension": ".py",
   "mimetype": "text/x-python",
   "name": "python",
   "nbconvert_exporter": "python",
   "pygments_lexer": "ipython3",
   "version": "3.12.0"
  }
 },
 "nbformat": 4,
 "nbformat_minor": 5
}
