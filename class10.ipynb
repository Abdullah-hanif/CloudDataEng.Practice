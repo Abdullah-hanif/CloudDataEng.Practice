{
 "cells": [
  {
   "cell_type": "code",
   "execution_count": 14,
   "metadata": {},
   "outputs": [
    {
     "name": "stdout",
     "output_type": "stream",
     "text": [
      "['huang', 'zhang', 'li', 'wang', 'zhao']\n",
      "['Huang', 'Zhang', 'Li', 'Wang', 'Zhao']\n",
      "['huang', 'zhang', 'li', 'wang', 'zhao']\n",
      "['li']\n"
     ]
    }
   ],
   "source": [
    "name = ['huang', 'zhang', 'li', 'wang', 'zhao']\n",
    "print(name)\n",
    "#make a function to java classes name\n",
    "def java_name(name):\n",
    "    return name.capitalize()\n",
    "print(list(map(java_name, name)))\n",
    "#make a function to python classes name\n",
    "def python_name(name):\n",
    "    return name.lower()\n",
    "print(list(map(python_name, name)))\n",
    "#make a condtion to filter the name which length is less than 4\n",
    "def filter_name(name):\n",
    "    return len(name) < 4\n",
    "print(list(filter(filter_name, name)))"
   ]
  },
  {
   "cell_type": "markdown",
   "metadata": {},
   "source": [
    "classes of objects,\n",
    "class ==> vehicles\n",
    "attributes ==> color , model , make , price , brand\n",
    "method ==> moving , details"
   ]
  },
  {
   "cell_type": "code",
   "execution_count": 2,
   "metadata": {},
   "outputs": [],
   "source": [
    "class vehicles():\n",
    "    def _init_(self,color,model,make,price,brand): #constructor\n",
    "        self.color = color\n",
    "        self.model = model\n",
    "        self.make = make\n",
    "        self.price = price\n",
    "        self.brand = brand\n",
    "    def display(self):\n",
    "        print('color:', self.color)\n",
    "        print('model:', self.model)\n",
    "        print('make:', self.make)\n",
    "        print('price:', self.price)\n",
    "        print('brand:', self.brand)\n",
    "def moving (self):\n",
    "    print(f\"{self.brand} is moving\")\n",
    "    toyaota = vehicles('red', 'corolla', 2019, 20000, 'toyota') #object `toyaota` of class `vehicles`\n",
    "    toyaota.display()\n",
    "    "
   ]
  },
  {
   "cell_type": "code",
   "execution_count": 4,
   "metadata": {},
   "outputs": [],
   "source": [
    "#make a classes "
   ]
  },
  {
   "cell_type": "code",
   "execution_count": 18,
   "metadata": {},
   "outputs": [
    {
     "name": "stdout",
     "output_type": "stream",
     "text": [
      "Hair Color: black\n",
      "Eye Color: brown\n",
      "Height: 5.8\n",
      "Weight: 70\n",
      "black-haired human is eating.\n",
      "black-haired human is sleeping.\n",
      "black-haired human is walking.\n",
      "black-haired human is playing.\n",
      "black-haired human is studying.\n"
     ]
    }
   ],
   "source": [
    "class Human:\n",
    "    def __init__(self, hairColor=\"black\", eyeColor=\"brown\", height=5.8, weight=70):\n",
    "        # Attributes to represent data\n",
    "        self.hairColor = hairColor\n",
    "        self.eyeColor = eyeColor\n",
    "        self.height = height\n",
    "        self.weight = weight\n",
    "\n",
    "    # Methods to represent behaviors\n",
    "    def eat(self):\n",
    "        print(f\"{self.hairColor}-haired human is eating.\")\n",
    "\n",
    "    def sleep(self):\n",
    "        print(f\"{self.hairColor}-haired human is sleeping.\")\n",
    "\n",
    "    def walk(self):\n",
    "        print(f\"{self.hairColor}-haired human is walking.\")\n",
    "\n",
    "    def play(self):\n",
    "        print(f\"{self.hairColor}-haired human is playing.\")\n",
    "\n",
    "    def study(self):\n",
    "        print(f\"{self.hairColor}-haired human is studying.\")\n",
    "\n",
    "# Creating an object of the Human class\n",
    "human1 = Human()\n",
    "\n",
    "\n",
    "# Accessing attributes\n",
    "print(f\"Hair Color: {human1.hairColor}\")\n",
    "print(f\"Eye Color: {human1.eyeColor}\")\n",
    "print(f\"Height: {human1.height}\")\n",
    "print(f\"Weight: {human1.weight}\")\n",
    "\n",
    "# Calling methods\n",
    "human1.eat()\n",
    "human1.sleep()\n",
    "human1.walk()\n",
    "human1.play()\n",
    "human1.study()\n"
   ]
  },
  {
   "cell_type": "code",
   "execution_count": 19,
   "metadata": {},
   "outputs": [
    {
     "name": "stdout",
     "output_type": "stream",
     "text": [
      "name: huang\n",
      "age: 20\n",
      "count: 1\n",
      "name: zhang\n",
      "age: 21\n",
      "count: 2\n",
      "name: li\n",
      "age: 22\n",
      "count: 3\n"
     ]
    }
   ],
   "source": [
    "class person():\n",
    "    #static variable\n",
    "    count = 0\n",
    "    def __init__(self, name, age):\n",
    "        self.name = name\n",
    "        self.age = age\n",
    "        person.count += 1\n",
    "    def display(self):\n",
    "        print('name:', self.name)\n",
    "        print('age:', self.age)\n",
    "        print('count:', person.count)\n",
    "    def display_count():\n",
    "        print('count:', person.count)\n",
    "#object of class person\n",
    "p1 = person('huang', 20)\n",
    "p1.display()\n",
    "p2 = person('zhang', 21)\n",
    "p2.display()\n",
    "p3 = person('li', 22)\n",
    "p3.display()"
   ]
  },
  {
   "cell_type": "code",
   "execution_count": 20,
   "metadata": {},
   "outputs": [
    {
     "name": "stdout",
     "output_type": "stream",
     "text": [
      "name: huang\n",
      "age: 20\n"
     ]
    }
   ],
   "source": [
    "#give me some exapmle of class and object\n",
    "class person():\n",
    "    def __init__(self, name, age):\n",
    "        self.name = name\n",
    "        self.age = age\n",
    "    def display(self):\n",
    "        print('name:', self.name)\n",
    "        print('age:', self.age)\n",
    "#object of class person\n",
    "p1 = person('huang', 20)\n",
    "p1.display()\n",
    "p2 = person('zhang', 21)"
   ]
  },
  {
   "cell_type": "code",
   "execution_count": 21,
   "metadata": {},
   "outputs": [
    {
     "name": "stdout",
     "output_type": "stream",
     "text": [
      "name: huang\n",
      "age: 20\n",
      "salary: 1000\n"
     ]
    }
   ],
   "source": [
    "#dynamic variable in class and object\n",
    "class person():\n",
    "    def __init__(self, name, age):\n",
    "        self.name = name\n",
    "        self.age = age\n",
    "    def display(self):\n",
    "        print('name:', self.name)\n",
    "        print('age:', self.age)\n",
    "#object of class person\n",
    "p1 = person('huang', 20)\n",
    "p1.display()\n",
    "p1.salary = 1000\n",
    "print('salary:', p1.salary)"
   ]
  },
  {
   "cell_type": "code",
   "execution_count": 22,
   "metadata": {},
   "outputs": [
    {
     "name": "stdout",
     "output_type": "stream",
     "text": [
      "name: huang\n",
      "age: 20\n",
      "rollno: 101\n",
      "marks: 90\n",
      "name: zhang\n",
      "age: 21\n",
      "rollno: 102\n",
      "marks: 95\n"
     ]
    }
   ],
   "source": [
    "#inheritance\n",
    "#poluymorphism\n",
    "#encapsulation\n",
    "#abstract class\n",
    "#now give me some example of all of them\n",
    "class person():\n",
    "    def __init__(self, name, age):\n",
    "        self.name = name\n",
    "        self.age = age\n",
    "    def display(self):\n",
    "        print('name:', self.name)\n",
    "        print('age:', self.age)\n",
    "class student(person):\n",
    "    def __init__(self, name, age, rollno, marks):\n",
    "        super().__init__(name, age)\n",
    "        self.rollno = rollno\n",
    "        self.marks = marks\n",
    "    def display(self):\n",
    "        super().display()\n",
    "        print('rollno:', self.rollno)\n",
    "        print('marks:', self.marks)\n",
    "#object of class student\n",
    "s1 = student('huang', 20, 101, 90)\n",
    "s1.display()\n",
    "s2 = student('zhang', 21, 102, 95)\n",
    "s2.display()\n"
   ]
  },
  {
   "cell_type": "code",
   "execution_count": 23,
   "metadata": {},
   "outputs": [
    {
     "name": "stdout",
     "output_type": "stream",
     "text": [
      "name: huang\n",
      "age: 20\n",
      "rollno: 101\n",
      "marks: 90\n",
      "name: zhang\n",
      "age: 21\n",
      "rollno: 102\n",
      "marks: 95\n"
     ]
    }
   ],
   "source": [
    "#give me short  example of inheritance only \n",
    "class person():\n",
    "    def __init__(self, name, age):\n",
    "        self.name = name\n",
    "        self.age = age\n",
    "    def display(self):\n",
    "        print('name:', self.name)\n",
    "        print('age:', self.age)\n",
    "class student(person):  \n",
    "    def __init__(self, name, age, rollno, marks):\n",
    "        super().__init__(name, age)\n",
    "        self.rollno = rollno\n",
    "        self.marks = marks\n",
    "    def display(self):\n",
    "        super().display()\n",
    "        print('rollno:', self.rollno)\n",
    "        print('marks:', self.marks)\n",
    "#object of class student\n",
    "s1 = student('huang', 20, 101, 90)\n",
    "s1.display()\n",
    "s2 = student('zhang', 21, 102, 95)\n",
    "s2.display()\n"
   ]
  },
  {
   "cell_type": "code",
   "execution_count": 26,
   "metadata": {},
   "outputs": [
    {
     "name": "stdout",
     "output_type": "stream",
     "text": [
      "height: 5.8\n"
     ]
    },
    {
     "ename": "AttributeError",
     "evalue": "'super' object has no attribute 'property'",
     "output_type": "error",
     "traceback": [
      "\u001b[1;31m---------------------------------------------------------------------------\u001b[0m",
      "\u001b[1;31mAttributeError\u001b[0m                            Traceback (most recent call last)",
      "Cell \u001b[1;32mIn[26], line 22\u001b[0m\n\u001b[0;32m     20\u001b[0m c2 \u001b[38;5;241m=\u001b[39m child(\u001b[38;5;241m5.9\u001b[39m)\n\u001b[0;32m     21\u001b[0m c1\u001b[38;5;241m.\u001b[39mdisplay()\n\u001b[1;32m---> 22\u001b[0m \u001b[43mc1\u001b[49m\u001b[38;5;241;43m.\u001b[39;49m\u001b[43mproperty\u001b[49m\u001b[43m(\u001b[49m\u001b[43m)\u001b[49m\n\u001b[0;32m     23\u001b[0m c2\u001b[38;5;241m.\u001b[39mdisplay()\n\u001b[0;32m     24\u001b[0m c2\u001b[38;5;241m.\u001b[39mproperty()\n",
      "Cell \u001b[1;32mIn[26], line 14\u001b[0m, in \u001b[0;36mchild.property\u001b[1;34m(self)\u001b[0m\n\u001b[0;32m     13\u001b[0m \u001b[38;5;28;01mdef\u001b[39;00m \u001b[38;5;21mproperty\u001b[39m(\u001b[38;5;28mself\u001b[39m):\n\u001b[1;32m---> 14\u001b[0m     \u001b[38;5;28;43msuper\u001b[39;49m\u001b[43m(\u001b[49m\u001b[43m)\u001b[49m\u001b[38;5;241;43m.\u001b[39;49m\u001b[43mproperty\u001b[49m()\n\u001b[0;32m     15\u001b[0m     \u001b[38;5;28mprint\u001b[39m(\u001b[38;5;124m\"\u001b[39m\u001b[38;5;124mI have a bike\u001b[39m\u001b[38;5;124m\"\u001b[39m)\n",
      "\u001b[1;31mAttributeError\u001b[0m: 'super' object has no attribute 'property'"
     ]
    }
   ],
   "source": [
    "class parent():\n",
    "  def __init__(self):\n",
    "    self.hairColor = \"black\"\n",
    "    self.eyeColor = \"brown\"\n",
    "    \n",
    "    def property(self):\n",
    "      print(\"I have a car\")\n",
    "      \n",
    "class child(parent):\n",
    "    def __init__ (self,height):\n",
    "        self.height = height\n",
    "        super().__init__()\n",
    "    def property(self):\n",
    "        super().property()\n",
    "        print(\"I have a bike\")\n",
    "    def display(self):\n",
    "        print('height:', self.height)\n",
    "#object of class child\n",
    "c1 = child(5.8)\n",
    "c2 = child(5.9)\n",
    "c1.display()\n",
    "c1.property()\n",
    "c2.display()\n",
    "c2.property()\n"
   ]
  },
  {
   "cell_type": "code",
   "execution_count": 27,
   "metadata": {},
   "outputs": [
    {
     "name": "stdout",
     "output_type": "stream",
     "text": [
      "Animal is eating\n",
      "Animal is sleeping\n",
      "Dog is barking\n"
     ]
    }
   ],
   "source": [
    "#base class Animal => eat() , sleep()\n",
    "#derived class Dog => bark()\n",
    "class Animal():\n",
    "    def eat(self):\n",
    "        print(\"Animal is eating\")\n",
    "    def sleep(self):\n",
    "        print(\"Animal is sleeping\")\n",
    "class Dog(Animal):\n",
    "    def bark(self):\n",
    "        print(\"Dog is barking\")\n",
    "#object of class Dog\n",
    "d1 = Dog()\n",
    "d1.eat()\n",
    "d1.sleep()\n",
    "d1.bark()\n"
   ]
  }
 ],
 "metadata": {
  "kernelspec": {
   "display_name": "Python 3",
   "language": "python",
   "name": "python3"
  },
  "language_info": {
   "codemirror_mode": {
    "name": "ipython",
    "version": 3
   },
   "file_extension": ".py",
   "mimetype": "text/x-python",
   "name": "python",
   "nbconvert_exporter": "python",
   "pygments_lexer": "ipython3",
   "version": "3.12.0"
  }
 },
 "nbformat": 4,
 "nbformat_minor": 2
}
